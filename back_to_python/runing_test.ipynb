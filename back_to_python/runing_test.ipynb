{
 "cells": [
  {
   "cell_type": "code",
   "execution_count": 2,
   "metadata": {},
   "outputs": [
    {
     "name": "stdout",
     "output_type": "stream",
     "text": [
      "True\n"
     ]
    }
   ],
   "source": [
    "from typing import List\n",
    "class Solution:\n",
    "    def canPlaceFlowers(self, flowerbed: List[int], n: int) -> bool:\n",
    "        \n",
    "        empty_plots = 0\n",
    "\n",
    "        for i in range(0, len(flowerbed)):\n",
    "            if flowerbed[i] != 1:\n",
    "                if i == 0:\n",
    "                    if flowerbed[1] == 0:\n",
    "                        empty_plots+=1\n",
    "                        flowerbed[i] = 1\n",
    "                elif i == len(flowerbed)-1:\n",
    "                    if flowerbed[-2] == 0:\n",
    "                        empty_plots+=1\n",
    "                        flowerbed[i] = 1\n",
    "                else:\n",
    "                    if flowerbed[i+1] == 0 and flowerbed[i-1] == 0:\n",
    "                        empty_plots+=1\n",
    "                        flowerbed[i] = 1\n",
    "        \n",
    "        return empty_plots >= n\n",
    "\n",
    "\n",
    "f = [1, 0, 0, 0, 0, 1]\n",
    "n = 2\n",
    "\n",
    "s = Solution()\n",
    "print(s.canPlaceFlowers(f, n))"
   ]
  }
 ],
 "metadata": {
  "kernelspec": {
   "display_name": "Python 3",
   "language": "python",
   "name": "python3"
  },
  "language_info": {
   "codemirror_mode": {
    "name": "ipython",
    "version": 3
   },
   "file_extension": ".py",
   "mimetype": "text/x-python",
   "name": "python",
   "nbconvert_exporter": "python",
   "pygments_lexer": "ipython3",
   "version": "3.12.4"
  }
 },
 "nbformat": 4,
 "nbformat_minor": 2
}
